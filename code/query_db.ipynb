{
 "cells": [
  {
   "cell_type": "code",
   "execution_count": 1,
   "id": "natural-plymouth",
   "metadata": {},
   "outputs": [],
   "source": [
    "import psycopg2\n",
    "import pandas as pd\n",
    "import numpy as np\n",
    "import pickle\n",
    "\n",
    "from db_config import *"
   ]
  },
  {
   "cell_type": "code",
   "execution_count": 2,
   "id": "periodic-adventure",
   "metadata": {},
   "outputs": [],
   "source": [
    "params = get_db_params()"
   ]
  },
  {
   "cell_type": "code",
   "execution_count": 3,
   "id": "comprehensive-seven",
   "metadata": {},
   "outputs": [],
   "source": [
    "conn = psycopg2.connect(**params)"
   ]
  },
  {
   "cell_type": "code",
   "execution_count": 4,
   "id": "hourly-psychiatry",
   "metadata": {},
   "outputs": [],
   "source": [
    "c = conn.cursor()"
   ]
  },
  {
   "cell_type": "code",
   "execution_count": 5,
   "id": "magnetic-anxiety",
   "metadata": {},
   "outputs": [],
   "source": [
    "query = \"\"\"\n",
    "SELECT *\n",
    "FROM orders\n",
    "WHERE eval_set = 'train';\n",
    "\"\"\"\n",
    "\n",
    "df_train = pd.read_sql_query(query, conn)"
   ]
  },
  {
   "cell_type": "code",
   "execution_count": 6,
   "id": "common-kentucky",
   "metadata": {},
   "outputs": [
    {
     "data": {
      "text/html": [
       "<div>\n",
       "<style scoped>\n",
       "    .dataframe tbody tr th:only-of-type {\n",
       "        vertical-align: middle;\n",
       "    }\n",
       "\n",
       "    .dataframe tbody tr th {\n",
       "        vertical-align: top;\n",
       "    }\n",
       "\n",
       "    .dataframe thead th {\n",
       "        text-align: right;\n",
       "    }\n",
       "</style>\n",
       "<table border=\"1\" class=\"dataframe\">\n",
       "  <thead>\n",
       "    <tr style=\"text-align: right;\">\n",
       "      <th></th>\n",
       "      <th>order_id</th>\n",
       "      <th>user_id</th>\n",
       "      <th>eval_set</th>\n",
       "      <th>order_number</th>\n",
       "      <th>order_dow</th>\n",
       "      <th>order_hour_of_day</th>\n",
       "      <th>days_since_prior_order</th>\n",
       "    </tr>\n",
       "  </thead>\n",
       "  <tbody>\n",
       "    <tr>\n",
       "      <th>0</th>\n",
       "      <td>1187899</td>\n",
       "      <td>1</td>\n",
       "      <td>train</td>\n",
       "      <td>11</td>\n",
       "      <td>4</td>\n",
       "      <td>8</td>\n",
       "      <td>14.0</td>\n",
       "    </tr>\n",
       "    <tr>\n",
       "      <th>1</th>\n",
       "      <td>1492625</td>\n",
       "      <td>2</td>\n",
       "      <td>train</td>\n",
       "      <td>15</td>\n",
       "      <td>1</td>\n",
       "      <td>11</td>\n",
       "      <td>30.0</td>\n",
       "    </tr>\n",
       "    <tr>\n",
       "      <th>2</th>\n",
       "      <td>2196797</td>\n",
       "      <td>5</td>\n",
       "      <td>train</td>\n",
       "      <td>5</td>\n",
       "      <td>0</td>\n",
       "      <td>11</td>\n",
       "      <td>6.0</td>\n",
       "    </tr>\n",
       "    <tr>\n",
       "      <th>3</th>\n",
       "      <td>525192</td>\n",
       "      <td>7</td>\n",
       "      <td>train</td>\n",
       "      <td>21</td>\n",
       "      <td>2</td>\n",
       "      <td>11</td>\n",
       "      <td>6.0</td>\n",
       "    </tr>\n",
       "    <tr>\n",
       "      <th>4</th>\n",
       "      <td>880375</td>\n",
       "      <td>8</td>\n",
       "      <td>train</td>\n",
       "      <td>4</td>\n",
       "      <td>1</td>\n",
       "      <td>14</td>\n",
       "      <td>10.0</td>\n",
       "    </tr>\n",
       "    <tr>\n",
       "      <th>...</th>\n",
       "      <td>...</td>\n",
       "      <td>...</td>\n",
       "      <td>...</td>\n",
       "      <td>...</td>\n",
       "      <td>...</td>\n",
       "      <td>...</td>\n",
       "      <td>...</td>\n",
       "    </tr>\n",
       "    <tr>\n",
       "      <th>131204</th>\n",
       "      <td>943915</td>\n",
       "      <td>206200</td>\n",
       "      <td>train</td>\n",
       "      <td>24</td>\n",
       "      <td>6</td>\n",
       "      <td>19</td>\n",
       "      <td>6.0</td>\n",
       "    </tr>\n",
       "    <tr>\n",
       "      <th>131205</th>\n",
       "      <td>2371631</td>\n",
       "      <td>206203</td>\n",
       "      <td>train</td>\n",
       "      <td>6</td>\n",
       "      <td>4</td>\n",
       "      <td>19</td>\n",
       "      <td>30.0</td>\n",
       "    </tr>\n",
       "    <tr>\n",
       "      <th>131206</th>\n",
       "      <td>1716008</td>\n",
       "      <td>206205</td>\n",
       "      <td>train</td>\n",
       "      <td>4</td>\n",
       "      <td>1</td>\n",
       "      <td>16</td>\n",
       "      <td>10.0</td>\n",
       "    </tr>\n",
       "    <tr>\n",
       "      <th>131207</th>\n",
       "      <td>160694</td>\n",
       "      <td>206186</td>\n",
       "      <td>train</td>\n",
       "      <td>4</td>\n",
       "      <td>5</td>\n",
       "      <td>15</td>\n",
       "      <td>7.0</td>\n",
       "    </tr>\n",
       "    <tr>\n",
       "      <th>131208</th>\n",
       "      <td>272231</td>\n",
       "      <td>206209</td>\n",
       "      <td>train</td>\n",
       "      <td>14</td>\n",
       "      <td>6</td>\n",
       "      <td>14</td>\n",
       "      <td>30.0</td>\n",
       "    </tr>\n",
       "  </tbody>\n",
       "</table>\n",
       "<p>131209 rows × 7 columns</p>\n",
       "</div>"
      ],
      "text/plain": [
       "        order_id  user_id eval_set  order_number  order_dow  \\\n",
       "0        1187899        1    train            11          4   \n",
       "1        1492625        2    train            15          1   \n",
       "2        2196797        5    train             5          0   \n",
       "3         525192        7    train            21          2   \n",
       "4         880375        8    train             4          1   \n",
       "...          ...      ...      ...           ...        ...   \n",
       "131204    943915   206200    train            24          6   \n",
       "131205   2371631   206203    train             6          4   \n",
       "131206   1716008   206205    train             4          1   \n",
       "131207    160694   206186    train             4          5   \n",
       "131208    272231   206209    train            14          6   \n",
       "\n",
       "        order_hour_of_day  days_since_prior_order  \n",
       "0                       8                    14.0  \n",
       "1                      11                    30.0  \n",
       "2                      11                     6.0  \n",
       "3                      11                     6.0  \n",
       "4                      14                    10.0  \n",
       "...                   ...                     ...  \n",
       "131204                 19                     6.0  \n",
       "131205                 19                    30.0  \n",
       "131206                 16                    10.0  \n",
       "131207                 15                     7.0  \n",
       "131208                 14                    30.0  \n",
       "\n",
       "[131209 rows x 7 columns]"
      ]
     },
     "execution_count": 6,
     "metadata": {},
     "output_type": "execute_result"
    }
   ],
   "source": [
    "df_train"
   ]
  },
  {
   "cell_type": "code",
   "execution_count": 7,
   "id": "younger-jason",
   "metadata": {},
   "outputs": [
    {
     "name": "stdout",
     "output_type": "stream",
     "text": [
      "Variable        Type          Data/Info\n",
      "---------------------------------------\n",
      "ConfigParser    ABCMeta       <class 'configparser.ConfigParser'>\n",
      "c               cursor        <cursor object at 0x7f89f8ffc9a0; closed: 0>\n",
      "conn            connection    <connection object at 0x7<...>st=localhost', closed: 0>\n",
      "df_train        DataFrame             order_id  user_id<...>[131209 rows x 7 columns]\n",
      "get_db_params   function      <function get_db_params at 0x7f89f92b8e50>\n",
      "np              module        <module 'numpy' from '/Us<...>kages/numpy/__init__.py'>\n",
      "params          dict          n=4\n",
      "pd              module        <module 'pandas' from '/U<...>ages/pandas/__init__.py'>\n",
      "pickle          module        <module 'pickle' from '/U<...>lib/python3.8/pickle.py'>\n",
      "psycopg2        module        <module 'psycopg2' from '<...>es/psycopg2/__init__.py'>\n",
      "query           str           \\nSELECT *\\nFROM orders\\n<...>ERE eval_set = 'train';\\n\n"
     ]
    }
   ],
   "source": [
    "whos"
   ]
  },
  {
   "cell_type": "code",
   "execution_count": 8,
   "id": "considerable-volunteer",
   "metadata": {},
   "outputs": [],
   "source": [
    "filename = \"../data/orders_df.pickle\"\n",
    "\n",
    "pickle.dump(df_train, open(filename, \"wb\"))"
   ]
  },
  {
   "cell_type": "code",
   "execution_count": 9,
   "id": "expired-float",
   "metadata": {},
   "outputs": [
    {
     "name": "stdout",
     "output_type": "stream",
     "text": [
      "Variable        Type          Data/Info\n",
      "---------------------------------------\n",
      "ConfigParser    ABCMeta       <class 'configparser.ConfigParser'>\n",
      "c               cursor        <cursor object at 0x7f89f8ffc9a0; closed: 0>\n",
      "conn            connection    <connection object at 0x7<...>st=localhost', closed: 0>\n",
      "df_train        DataFrame             order_id  user_id<...>[131209 rows x 7 columns]\n",
      "filename        str           ../data/orders_df.pickle\n",
      "get_db_params   function      <function get_db_params at 0x7f89f92b8e50>\n",
      "np              module        <module 'numpy' from '/Us<...>kages/numpy/__init__.py'>\n",
      "params          dict          n=4\n",
      "pd              module        <module 'pandas' from '/U<...>ages/pandas/__init__.py'>\n",
      "pickle          module        <module 'pickle' from '/U<...>lib/python3.8/pickle.py'>\n",
      "psycopg2        module        <module 'psycopg2' from '<...>es/psycopg2/__init__.py'>\n",
      "query           str           \\nSELECT *\\nFROM orders\\n<...>ERE eval_set = 'train';\\n\n"
     ]
    }
   ],
   "source": [
    "whos"
   ]
  },
  {
   "cell_type": "code",
   "execution_count": 12,
   "id": "annoying-april",
   "metadata": {},
   "outputs": [],
   "source": [
    "df_train = pd.read_pickle(filename)"
   ]
  },
  {
   "cell_type": "code",
   "execution_count": 18,
   "id": "standard-effect",
   "metadata": {},
   "outputs": [
    {
     "data": {
      "text/plain": [
       "131209"
      ]
     },
     "execution_count": 18,
     "metadata": {},
     "output_type": "execute_result"
    }
   ],
   "source": [
    "len(df_train.order_id.unique())"
   ]
  },
  {
   "cell_type": "code",
   "execution_count": 19,
   "id": "tired-hunger",
   "metadata": {},
   "outputs": [],
   "source": [
    "query = \"\"\"\n",
    "SELECT *\n",
    "FROM orders\n",
    "WHERE eval_set = 'prior';\n",
    "\"\"\"\n",
    "\n",
    "df_prior = pd.read_sql_query(query, conn)"
   ]
  },
  {
   "cell_type": "code",
   "execution_count": 22,
   "id": "computational-judgment",
   "metadata": {},
   "outputs": [
    {
     "data": {
      "text/plain": [
       "(3214874, 7)"
      ]
     },
     "execution_count": 22,
     "metadata": {},
     "output_type": "execute_result"
    }
   ],
   "source": [
    "df_prior.shape"
   ]
  },
  {
   "cell_type": "code",
   "execution_count": 23,
   "id": "animated-aviation",
   "metadata": {},
   "outputs": [
    {
     "data": {
      "text/plain": [
       "3214874"
      ]
     },
     "execution_count": 23,
     "metadata": {},
     "output_type": "execute_result"
    }
   ],
   "source": [
    "len(df_prior.order_id.unique())"
   ]
  },
  {
   "cell_type": "code",
   "execution_count": 24,
   "id": "otherwise-blend",
   "metadata": {},
   "outputs": [
    {
     "data": {
      "text/html": [
       "<div>\n",
       "<style scoped>\n",
       "    .dataframe tbody tr th:only-of-type {\n",
       "        vertical-align: middle;\n",
       "    }\n",
       "\n",
       "    .dataframe tbody tr th {\n",
       "        vertical-align: top;\n",
       "    }\n",
       "\n",
       "    .dataframe thead th {\n",
       "        text-align: right;\n",
       "    }\n",
       "</style>\n",
       "<table border=\"1\" class=\"dataframe\">\n",
       "  <thead>\n",
       "    <tr style=\"text-align: right;\">\n",
       "      <th></th>\n",
       "      <th>order_id</th>\n",
       "      <th>user_id</th>\n",
       "      <th>eval_set</th>\n",
       "      <th>order_number</th>\n",
       "      <th>order_dow</th>\n",
       "      <th>order_hour_of_day</th>\n",
       "      <th>days_since_prior_order</th>\n",
       "    </tr>\n",
       "  </thead>\n",
       "  <tbody>\n",
       "    <tr>\n",
       "      <th>2309369</th>\n",
       "      <td>1890051</td>\n",
       "      <td>147884</td>\n",
       "      <td>prior</td>\n",
       "      <td>3</td>\n",
       "      <td>6</td>\n",
       "      <td>2</td>\n",
       "      <td>21.0</td>\n",
       "    </tr>\n",
       "    <tr>\n",
       "      <th>2419450</th>\n",
       "      <td>1752391</td>\n",
       "      <td>154901</td>\n",
       "      <td>prior</td>\n",
       "      <td>22</td>\n",
       "      <td>0</td>\n",
       "      <td>17</td>\n",
       "      <td>4.0</td>\n",
       "    </tr>\n",
       "    <tr>\n",
       "      <th>968449</th>\n",
       "      <td>283334</td>\n",
       "      <td>61971</td>\n",
       "      <td>prior</td>\n",
       "      <td>10</td>\n",
       "      <td>5</td>\n",
       "      <td>11</td>\n",
       "      <td>11.0</td>\n",
       "    </tr>\n",
       "    <tr>\n",
       "      <th>3173580</th>\n",
       "      <td>263178</td>\n",
       "      <td>203497</td>\n",
       "      <td>prior</td>\n",
       "      <td>4</td>\n",
       "      <td>3</td>\n",
       "      <td>15</td>\n",
       "      <td>30.0</td>\n",
       "    </tr>\n",
       "    <tr>\n",
       "      <th>3017083</th>\n",
       "      <td>1482083</td>\n",
       "      <td>193567</td>\n",
       "      <td>prior</td>\n",
       "      <td>16</td>\n",
       "      <td>3</td>\n",
       "      <td>12</td>\n",
       "      <td>30.0</td>\n",
       "    </tr>\n",
       "    <tr>\n",
       "      <th>1006486</th>\n",
       "      <td>1165225</td>\n",
       "      <td>64517</td>\n",
       "      <td>prior</td>\n",
       "      <td>8</td>\n",
       "      <td>5</td>\n",
       "      <td>10</td>\n",
       "      <td>6.0</td>\n",
       "    </tr>\n",
       "    <tr>\n",
       "      <th>646319</th>\n",
       "      <td>1899785</td>\n",
       "      <td>41460</td>\n",
       "      <td>prior</td>\n",
       "      <td>11</td>\n",
       "      <td>5</td>\n",
       "      <td>16</td>\n",
       "      <td>9.0</td>\n",
       "    </tr>\n",
       "    <tr>\n",
       "      <th>2587530</th>\n",
       "      <td>635088</td>\n",
       "      <td>165946</td>\n",
       "      <td>prior</td>\n",
       "      <td>1</td>\n",
       "      <td>1</td>\n",
       "      <td>5</td>\n",
       "      <td>NaN</td>\n",
       "    </tr>\n",
       "    <tr>\n",
       "      <th>25630</th>\n",
       "      <td>2801297</td>\n",
       "      <td>1699</td>\n",
       "      <td>prior</td>\n",
       "      <td>17</td>\n",
       "      <td>4</td>\n",
       "      <td>14</td>\n",
       "      <td>3.0</td>\n",
       "    </tr>\n",
       "    <tr>\n",
       "      <th>594070</th>\n",
       "      <td>2075652</td>\n",
       "      <td>38089</td>\n",
       "      <td>prior</td>\n",
       "      <td>19</td>\n",
       "      <td>4</td>\n",
       "      <td>19</td>\n",
       "      <td>8.0</td>\n",
       "    </tr>\n",
       "  </tbody>\n",
       "</table>\n",
       "</div>"
      ],
      "text/plain": [
       "         order_id  user_id eval_set  order_number  order_dow  \\\n",
       "2309369   1890051   147884    prior             3          6   \n",
       "2419450   1752391   154901    prior            22          0   \n",
       "968449     283334    61971    prior            10          5   \n",
       "3173580    263178   203497    prior             4          3   \n",
       "3017083   1482083   193567    prior            16          3   \n",
       "1006486   1165225    64517    prior             8          5   \n",
       "646319    1899785    41460    prior            11          5   \n",
       "2587530    635088   165946    prior             1          1   \n",
       "25630     2801297     1699    prior            17          4   \n",
       "594070    2075652    38089    prior            19          4   \n",
       "\n",
       "         order_hour_of_day  days_since_prior_order  \n",
       "2309369                  2                    21.0  \n",
       "2419450                 17                     4.0  \n",
       "968449                  11                    11.0  \n",
       "3173580                 15                    30.0  \n",
       "3017083                 12                    30.0  \n",
       "1006486                 10                     6.0  \n",
       "646319                  16                     9.0  \n",
       "2587530                  5                     NaN  \n",
       "25630                   14                     3.0  \n",
       "594070                  19                     8.0  "
      ]
     },
     "execution_count": 24,
     "metadata": {},
     "output_type": "execute_result"
    }
   ],
   "source": [
    "df_prior.sample(10)"
   ]
  },
  {
   "cell_type": "code",
   "execution_count": null,
   "id": "controlling-witch",
   "metadata": {},
   "outputs": [],
   "source": []
  }
 ],
 "metadata": {
  "kernelspec": {
   "display_name": "Python 3",
   "language": "python",
   "name": "python3"
  },
  "language_info": {
   "codemirror_mode": {
    "name": "ipython",
    "version": 3
   },
   "file_extension": ".py",
   "mimetype": "text/x-python",
   "name": "python",
   "nbconvert_exporter": "python",
   "pygments_lexer": "ipython3",
   "version": "3.8.5"
  }
 },
 "nbformat": 4,
 "nbformat_minor": 5
}
